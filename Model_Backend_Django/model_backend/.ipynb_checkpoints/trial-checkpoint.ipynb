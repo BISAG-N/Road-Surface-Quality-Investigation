{
 "cells": [
  {
   "cell_type": "code",
   "execution_count": 1,
   "metadata": {},
   "outputs": [],
   "source": [
    "from arcgis import learn\n",
    "\n",
    "frc = learn.FasterRCNN.from_model(emd_path='D:/ArcGIS/Pro/bin/Python/envs/pavement-cracks-model-resnet101/pavement-cracks-model-resnet101.dlpk')\n"
   ]
  },
  {
   "cell_type": "code",
   "execution_count": 2,
   "metadata": {},
   "outputs": [],
   "source": [
    "import json"
   ]
  },
  {
   "cell_type": "code",
   "execution_count": 3,
   "metadata": {},
   "outputs": [
    {
     "name": "stdout",
     "output_type": "stream",
     "text": [
      "<arcgis.learn.models._faster_rcnn.FasterRCNN object at 0x0000016471760D00>\n"
     ]
    }
   ],
   "source": [
    "print(frc)"
   ]
  },
  {
   "cell_type": "code",
   "execution_count": 3,
   "metadata": {},
   "outputs": [],
   "source": [
    "bbox_data = frc.predict('C:/Users/Jaydip/Downloads/1.png', threshold=0.1, visualize=False,return_scores=True)"
   ]
  },
  {
   "cell_type": "code",
   "execution_count": 8,
   "metadata": {},
   "outputs": [
    {
     "name": "stdout",
     "output_type": "stream",
     "text": [
      "([[459.9381866455078, 416.83070373535156, 8.2462158203125, 7.285888671875]], ['D44'], [0.19874058663845062])\n"
     ]
    },
    {
     "data": {
      "text/plain": [
       "tuple"
      ]
     },
     "execution_count": 8,
     "metadata": {},
     "output_type": "execute_result"
    }
   ],
   "source": [
    "print(bbox_data)\n",
    "type(bbox_data)"
   ]
  },
  {
   "cell_type": "code",
   "execution_count": 4,
   "metadata": {},
   "outputs": [
    {
     "name": "stdout",
     "output_type": "stream",
     "text": [
      "[[[459.9381866455078, 416.83070373535156, 8.2462158203125, 7.285888671875]], [\"D44\"], [0.19874058663845062]]\n"
     ]
    }
   ],
   "source": [
    "res = json.dumps(bbox_data)\n",
    "print(res)"
   ]
  },
  {
   "cell_type": "code",
   "execution_count": null,
   "metadata": {},
   "outputs": [],
   "source": []
  }
 ],
 "metadata": {
  "kernelspec": {
   "display_name": "Python 3 (ipykernel)",
   "language": "python",
   "name": "python3"
  },
  "language_info": {
   "codemirror_mode": {
    "name": "ipython",
    "version": 3
   },
   "file_extension": ".py",
   "mimetype": "text/x-python",
   "name": "python",
   "nbconvert_exporter": "python",
   "pygments_lexer": "ipython3",
   "version": "3.9.16"
  },
  "vscode": {
   "interpreter": {
    "hash": "81d349dc92358320a50f20a4a767ed2ce08bd7a508ddc4bd9dd47c0cff0da1a1"
   }
  }
 },
 "nbformat": 4,
 "nbformat_minor": 2
}
